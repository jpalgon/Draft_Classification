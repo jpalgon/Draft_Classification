{
 "cells": [
  {
   "cell_type": "code",
   "execution_count": 72,
   "id": "5492a13c",
   "metadata": {},
   "outputs": [],
   "source": [
    "from sklearn.model_selection import GridSearchCV, train_test_split\n",
    "from sklearn.linear_model import LogisticRegression\n",
    "from sklearn.preprocessing import MinMaxScaler, OneHotEncoder\n",
    "from sklearn.tree import DecisionTreeClassifier\n",
    "from sklearn.ensemble import RandomForestClassifier\n",
    "from imblearn.over_sampling import SMOTE\n",
    "from sklearn.compose import ColumnTransformer\n",
    "from imblearn.pipeline import Pipeline\n",
    "from sklearn.impute import SimpleImputer\n",
    "from sklearn.metrics import accuracy_score,confusion_matrix, plot_confusion_matrix, plot_roc_curve, recall_score, f1_score, precision_score\n",
    "import pandas as pd"
   ]
  },
  {
   "cell_type": "code",
   "execution_count": 7,
   "id": "edaa8ba4",
   "metadata": {},
   "outputs": [
    {
     "data": {
      "text/plain": [
       "Index(['Rnd', 'Tm', 'Player', 'Pos', 'Age', 'To', 'College', 'tackles_solo',\n",
       "       'tackles_assists', 'tackles_total', 'tackles_loss', 'sacks', 'def_int',\n",
       "       'def_int_yds', 'def_int_yds_per_int', 'def_int_td', 'pass_defended',\n",
       "       'fumbles_rec', 'fumbles_rec_yds', 'fumbles_rec_td', 'fumbles_forced',\n",
       "       'rec', 'rec_yds', 'rec_yds_per_rec', 'rec_td', 'rush_att', 'rush_yds',\n",
       "       'rush_yds_per_att', 'rush_td', 'scrim_att', 'scrim_yds',\n",
       "       'scrim_yds_per_att', 'scrim_td', 'pass_cmp', 'pass_att', 'pass_cmp_pct',\n",
       "       'pass_yds', 'pass_yds_per_att', 'adj_pass_yds_per_att', 'pass_td',\n",
       "       'pass_int', 'pass_rating', 'height', 'weight', 'college_conference'],\n",
       "      dtype='object')"
      ]
     },
     "execution_count": 7,
     "metadata": {},
     "output_type": "execute_result"
    }
   ],
   "source": [
    "pd.set_option(\"display.max_columns\", None)\n",
    "df_all = pd.read_parquet('./Data/modeldraft1322')\n",
    "df_all.columns"
   ]
  },
  {
   "cell_type": "code",
   "execution_count": 11,
   "id": "7630f981",
   "metadata": {},
   "outputs": [],
   "source": [
    "df = df_all.drop(['Tm','Player','To','College','height','weight'],axis=1)"
   ]
  },
  {
   "cell_type": "code",
   "execution_count": 38,
   "id": "5ca9ae5a",
   "metadata": {},
   "outputs": [
    {
     "name": "stdout",
     "output_type": "stream",
     "text": [
      "<class 'pandas.core.frame.DataFrame'>\n",
      "Int64Index: 2558 entries, 0 to 2557\n",
      "Data columns (total 39 columns):\n",
      " #   Column                Non-Null Count  Dtype  \n",
      "---  ------                --------------  -----  \n",
      " 0   Rnd                   2558 non-null   float64\n",
      " 1   Pos                   2558 non-null   object \n",
      " 2   Age                   2555 non-null   float64\n",
      " 3   tackles_solo          1182 non-null   float64\n",
      " 4   tackles_assists       1182 non-null   float64\n",
      " 5   tackles_total         1182 non-null   float64\n",
      " 6   tackles_loss          1182 non-null   float64\n",
      " 7   sacks                 1182 non-null   float64\n",
      " 8   def_int               1166 non-null   float64\n",
      " 9   def_int_yds           1166 non-null   float64\n",
      " 10  def_int_yds_per_int   784 non-null    float64\n",
      " 11  def_int_td            1165 non-null   float64\n",
      " 12  pass_defended         1166 non-null   float64\n",
      " 13  fumbles_rec           1166 non-null   float64\n",
      " 14  fumbles_rec_yds       295 non-null    float64\n",
      " 15  fumbles_rec_td        382 non-null    float64\n",
      " 16  fumbles_forced        1166 non-null   float64\n",
      " 17  rec                   631 non-null    float64\n",
      " 18  rec_yds               631 non-null    float64\n",
      " 19  rec_yds_per_rec       631 non-null    float64\n",
      " 20  rec_td                597 non-null    float64\n",
      " 21  rush_att              480 non-null    float64\n",
      " 22  rush_yds              479 non-null    float64\n",
      " 23  rush_yds_per_att      476 non-null    float64\n",
      " 24  rush_td               328 non-null    float64\n",
      " 25  scrim_att             631 non-null    float64\n",
      " 26  scrim_yds             631 non-null    float64\n",
      " 27  scrim_yds_per_att     631 non-null    float64\n",
      " 28  scrim_td              629 non-null    float64\n",
      " 29  pass_cmp              113 non-null    float64\n",
      " 30  pass_att              113 non-null    float64\n",
      " 31  pass_cmp_pct          113 non-null    float64\n",
      " 32  pass_yds              113 non-null    float64\n",
      " 33  pass_yds_per_att      113 non-null    float64\n",
      " 34  adj_pass_yds_per_att  113 non-null    float64\n",
      " 35  pass_td               113 non-null    float64\n",
      " 36  pass_int              113 non-null    float64\n",
      " 37  pass_rating           113 non-null    float64\n",
      " 38  college_conference    2312 non-null   object \n",
      "dtypes: float64(37), object(2)\n",
      "memory usage: 863.9+ KB\n"
     ]
    }
   ],
   "source": [
    "df.info()"
   ]
  },
  {
   "cell_type": "code",
   "execution_count": null,
   "id": "4b2fca0b",
   "metadata": {},
   "outputs": [],
   "source": []
  },
  {
   "cell_type": "code",
   "execution_count": 67,
   "id": "ace493a4",
   "metadata": {},
   "outputs": [
    {
     "name": "stderr",
     "output_type": "stream",
     "text": [
      "C:\\Users\\capta\\anaconda3\\lib\\site-packages\\sklearn\\preprocessing\\_encoders.py:170: UserWarning: Found unknown categories in columns [1] during transform. These unknown categories will be encoded as all zeros\n",
      "  warnings.warn(\n"
     ]
    }
   ],
   "source": [
    "X = df.drop(['Rnd'],axis=1)\n",
    "y = df.Rnd\n",
    "\n",
    "X_train, X_test, y_train, y_test = train_test_split(X,y,test_size=.33,random_state=42)\n",
    "\n",
    "smote = SMOTE()\n",
    "\n",
    "# Separate X_train into categorical and numerical dfs\n",
    "X_train_cat = X_train.select_dtypes('object')\n",
    "X_train_num = X_train.select_dtypes(['float64'])\n",
    "\n",
    "cat_transformer = Pipeline(steps=[('ohe',OneHotEncoder(drop='first',sparse=False,handle_unknown='ignore'))])\n",
    "num_transformer = Pipeline(steps=[('impute',SimpleImputer(strategy='constant')),\n",
    "                                  ('mms',MinMaxScaler())])\n",
    "\n",
    "transformer = ColumnTransformer(transformers=[\n",
    "    ('numerical', num_transformer, X_train_num.columns),\n",
    "    ('categorical', cat_transformer, X_train_cat.columns)\n",
    "])\n",
    "\n",
    "pipe = Pipeline(steps=([\n",
    "    ('trans',transformer),\n",
    "    ('smote',smote),\n",
    "    ('logr',LogisticRegression(random_state=42,solver='liblinear'))\n",
    "]))\n",
    "\n",
    "pipe.fit(X_train,y_train)\n",
    "y_pred = pipe.predict(X_test)\n",
    "# grid = [{'C': [1e-10,1e-5,1,1e5,1e10],\n",
    "#        'fit_intercept': [True, False]}]\n",
    "\n",
    "# gridsearch = GridSearchCV(estimator=pipe,\n",
    "#                           param_grid=grid,\n",
    "#                           scoring='accuracy',\n",
    "#                           cv=5)\n",
    "\n",
    "# gridsearch.fit(X_train,y_train)\n",
    "\n",
    "# gridsearch.score(X_test, y_test)"
   ]
  },
  {
   "cell_type": "code",
   "execution_count": 69,
   "id": "62e89e44",
   "metadata": {},
   "outputs": [
    {
     "data": {
      "text/plain": [
       "0.30617283950617286"
      ]
     },
     "execution_count": 69,
     "metadata": {},
     "output_type": "execute_result"
    }
   ],
   "source": [
    "f1_score(y_test,y_pred)"
   ]
  },
  {
   "cell_type": "code",
   "execution_count": 70,
   "id": "214e44f1",
   "metadata": {},
   "outputs": [
    {
     "data": {
      "text/plain": [
       "0.6674556213017752"
      ]
     },
     "execution_count": 70,
     "metadata": {},
     "output_type": "execute_result"
    }
   ],
   "source": [
    "accuracy_score(y_test,y_pred)"
   ]
  },
  {
   "cell_type": "code",
   "execution_count": 71,
   "id": "d8a265a0",
   "metadata": {},
   "outputs": [
    {
     "data": {
      "text/plain": [
       "0.6526315789473685"
      ]
     },
     "execution_count": 71,
     "metadata": {},
     "output_type": "execute_result"
    }
   ],
   "source": [
    "recall_score(y_test,y_pred)"
   ]
  },
  {
   "cell_type": "code",
   "execution_count": 73,
   "id": "e0974477",
   "metadata": {},
   "outputs": [
    {
     "data": {
      "text/plain": [
       "0.2"
      ]
     },
     "execution_count": 73,
     "metadata": {},
     "output_type": "execute_result"
    }
   ],
   "source": [
    "precision_score(y_test,y_pred)"
   ]
  },
  {
   "cell_type": "markdown",
   "id": "ce4233c0",
   "metadata": {},
   "source": [
    "#### Columns to get from profootballreference/sportsreference\n",
    "- Rnd\n",
    "- Pick\n",
    "- Tm\n",
    "- Player\n",
    "- Pos\n",
    "- Age\n",
    "- College/Univ\n",
    "- Draft_Yr\n",
    "- All college stats\n",
    "\n",
    "#### Columns to get from NFL Python Package:\n",
    "- position_group\n",
    "- college_conference\n",
    "- height\n",
    "- weight\n",
    "\n",
    "#### Columns to One Hot Encode \n",
    "- Pos or position_group\n",
    "    - See which one works better\n",
    "- college_conference\n",
    "\n",
    "#### Columns to Transform\n",
    "- Rnd needs to be turned into round 1 (target) or round 0\n",
    "\n",
    "#### Models to try:\n",
    "- Logistic Regression\n",
    "- Decision Tree\n",
    "- Random Forest\n",
    "\n"
   ]
  },
  {
   "cell_type": "code",
   "execution_count": null,
   "id": "186f6124",
   "metadata": {},
   "outputs": [],
   "source": []
  },
  {
   "cell_type": "code",
   "execution_count": null,
   "id": "1ba15357",
   "metadata": {},
   "outputs": [],
   "source": []
  },
  {
   "cell_type": "code",
   "execution_count": null,
   "id": "2489ee02",
   "metadata": {},
   "outputs": [],
   "source": []
  }
 ],
 "metadata": {
  "kernelspec": {
   "display_name": "Python 3 (ipykernel)",
   "language": "python",
   "name": "python3"
  },
  "language_info": {
   "codemirror_mode": {
    "name": "ipython",
    "version": 3
   },
   "file_extension": ".py",
   "mimetype": "text/x-python",
   "name": "python",
   "nbconvert_exporter": "python",
   "pygments_lexer": "ipython3",
   "version": "3.9.13"
  }
 },
 "nbformat": 4,
 "nbformat_minor": 5
}
